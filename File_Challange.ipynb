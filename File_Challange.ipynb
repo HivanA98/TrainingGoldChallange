{
 "cells": [
  {
   "cell_type": "markdown",
   "metadata": {},
   "source": [
    "Untuk membuat API dengan Flask yang memenuhi kriteria Anda, ikuti langkah-langkah berikut:\n",
    "\n",
    "Persiapkan file CSV untuk kriteria pertama (misalkan kata_kasar.csv) dengan satu kolom yang berisi kata-kata kasar.\n",
    "Persiapkan file CSV untuk kriteria kedua (misalkan kata_typo.csv) dengan dua kolom: kolom pertama berisi kata typo dan kolom kedua berisi kata yang benar.\n",
    "Persiapkan file CSV untuk kriteria ketiga (misalkan kata_hapus.csv) dengan satu kolom yang berisi kata-kata yang ingin dihapus.\n",
    "Berikut kode untuk API tersebut:"
   ]
  },
  {
   "cell_type": "code",
   "execution_count": null,
   "metadata": {},
   "outputs": [],
   "source": [
    "from flask import Flask, request, jsonify\n",
    "import pandas as pd\n",
    "import csv"
   ]
  },
  {
   "cell_type": "code",
   "execution_count": 2,
   "metadata": {},
   "outputs": [],
   "source": [
    "app = Flask(__name__)\n",
    "\n",
    "@app.route('/process-text', methods=['POST'])\n",
    "def process_text():\n",
    "    text = request.json.get('text', '')"
   ]
  },
  {
   "cell_type": "code",
   "execution_count": null,
   "metadata": {},
   "outputs": [],
   "source": [
    " # Kriteria pertama: Menghapus kata-kata kasar\n",
    "    with open('kata_kasar.csv', 'r') as f:\n",
    "        reader = csv.reader(f)\n",
    "        kata_kasar = list(next(reader))\n",
    "    for kata in kata_kasar:\n",
    "        text = text.replace(kata, '**')\n",
    "    "
   ]
  },
  {
   "cell_type": "code",
   "execution_count": null,
   "metadata": {},
   "outputs": [],
   "source": [
    "\n",
    "    # Kriteria kedua: Mengganti kata typo\n",
    "    df_typo = pd.read_csv('kata_typo.csv')\n",
    "    for index, row in df_typo.iterrows():\n",
    "        text = text.replace(row['typo'], row['benar'])"
   ]
  },
  {
   "cell_type": "code",
   "execution_count": null,
   "metadata": {},
   "outputs": [],
   "source": [
    " # Kriteria ketiga: Menghapus kata-kata tertentu\n",
    "    with open('kata_hapus.csv', 'r') as f:\n",
    "        reader = csv.reader(f)\n",
    "        kata_hapus = list(next(reader))\n",
    "    for kata in kata_hapus:\n",
    "        text = text.replace(kata, '')"
   ]
  },
  {
   "cell_type": "code",
   "execution_count": null,
   "metadata": {},
   "outputs": [],
   "source": [
    " return jsonify({\"processed_text\": text})\n",
    "\n",
    "\n",
    "if __name__ == \"__main__\":\n",
    "    app.run(debug=True)"
   ]
  },
  {
   "cell_type": "markdown",
   "metadata": {},
   "source": [
    "Cara menggunakan API:\n",
    "\n",
    "Jalankan script di atas.\n",
    "Kirim permintaan POST dengan body berisi {\"text\": \"teks yang ingin diproses\"} ke endpoint /process-text.\n",
    "Anda akan menerima teks yang telah diproses sesuai kriteria yang ditentukan.\n",
    "Pastikan anda telah menginstall Flask dan pandas sebelum menjalankan kode ini dengan:"
   ]
  },
  {
   "cell_type": "code",
   "execution_count": null,
   "metadata": {},
   "outputs": [],
   "source": [
    "@app.route('/filter-text', methods=['POST'])\n",
    "def filter_text():\n",
    "    text = request.json.get('text', '')\n",
    "    words_to_remove = request.json.get('words_to_remove', [])\n",
    "\n",
    "    for word in words_to_remove:\n",
    "        text = text.replace(word, '')\n",
    "\n",
    "    return jsonify({\"filtered_text\": text})"
   ]
  },
  {
   "cell_type": "markdown",
   "metadata": {},
   "source": [
    "Cara menggunakan API:\n",
    "\n",
    "Jalankan script di atas.\n",
    "Kirim permintaan POST dengan body berisi {\"text\": \"teks yang ingin difilter\", \"words_to_remove\": [\"kata1\", \"kata2\", ...]} ke endpoint /filter-text.\n",
    "Anda akan menerima teks yang telah difilter."
   ]
  }
 ],
 "metadata": {
  "kernelspec": {
   "display_name": "Python 3",
   "language": "python",
   "name": "python3"
  },
  "language_info": {
   "codemirror_mode": {
    "name": "ipython",
    "version": 3
   },
   "file_extension": ".py",
   "mimetype": "text/x-python",
   "name": "python",
   "nbconvert_exporter": "python",
   "pygments_lexer": "ipython3",
   "version": "3.11.4"
  },
  "orig_nbformat": 4
 },
 "nbformat": 4,
 "nbformat_minor": 2
}
