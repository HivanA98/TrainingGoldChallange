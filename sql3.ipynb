{
 "cells": [
  {
   "cell_type": "code",
   "execution_count": null,
   "metadata": {},
   "outputs": [],
   "source": [
    "import pandas as pd\n",
    "import sqlite3"
   ]
  },
  {
   "cell_type": "code",
   "execution_count": null,
   "metadata": {},
   "outputs": [],
   "source": [
    "cnx = sqlite3.connect('cindo.db')"
   ]
  },
  {
   "cell_type": "code",
   "execution_count": null,
   "metadata": {},
   "outputs": [],
   "source": [
    "sql_df = pd.read_sql_query(\"SELECT * from sqlite_master;\",cnx)"
   ]
  },
  {
   "cell_type": "code",
   "execution_count": null,
   "metadata": {},
   "outputs": [],
   "source": [
    "sql_df"
   ]
  },
  {
   "cell_type": "code",
   "execution_count": null,
   "metadata": {},
   "outputs": [],
   "source": [
    "#Pertanyaan nomor 1\n",
    "\n",
    "sql_df = pd.read_sql_query(\"SELECT DISTINCT * from sqlite_master where name <> 'TV Shows' ORDER BY name;\",cnx)"
   ]
  },
  {
   "cell_type": "code",
   "execution_count": null,
   "metadata": {},
   "outputs": [],
   "source": [
    "sql_df"
   ]
  },
  {
   "cell_type": "code",
   "execution_count": null,
   "metadata": {},
   "outputs": [],
   "source": [
    "#Pertanyaan Nomor 2\n",
    "\n",
    "sql_df = pd.read_sql_query(\"SELECT customerId, SUM(total) AS TotalPayment FROM invoices WHERE invoiceDate BETWEEN 2010 AND 2014;\",cnx)"
   ]
  },
  {
   "cell_type": "code",
   "execution_count": null,
   "metadata": {},
   "outputs": [],
   "source": [
    "sql_df"
   ]
  },
  {
   "cell_type": "code",
   "execution_count": null,
   "metadata": {},
   "outputs": [],
   "source": [
    "#Pertanyaan 3\n",
    "\n",
    "sql_df = pd.read_sql_query(\"SELECT customerId, SUM(total) AS TotalPayment FROM invoices WHERE invoiceDate BETWEEN 2010 AND 2014 HAVING TotalPayment >'35';\",cnx)"
   ]
  },
  {
   "cell_type": "code",
   "execution_count": null,
   "metadata": {},
   "outputs": [],
   "source": [
    "sql_df"
   ]
  },
  {
   "cell_type": "code",
   "execution_count": null,
   "metadata": {},
   "outputs": [],
   "source": [
    "#Pertanyaan 4A\n",
    "\n",
    "sql_df = pd.read_sql_query(\"SELECT Id, Email, Address, Country FROM customer where Country == 'USA' ORDER BY name END IsUSA;\",cnx)"
   ]
  },
  {
   "cell_type": "code",
   "execution_count": null,
   "metadata": {},
   "outputs": [],
   "source": [
    "sql_df"
   ]
  },
  {
   "cell_type": "code",
   "execution_count": null,
   "metadata": {},
   "outputs": [],
   "source": [
    "#Pertanyaan 4B\n",
    "\n",
    "sql_df = pd.read_sql_query(\"SELECT Id, Email, Address, Country from customer where Country <> 'USA' ORDER BY name END NotUsa;\",cnx)"
   ]
  },
  {
   "cell_type": "code",
   "execution_count": null,
   "metadata": {},
   "outputs": [],
   "source": [
    "sql_df"
   ]
  },
  {
   "cell_type": "code",
   "execution_count": null,
   "metadata": {},
   "outputs": [],
   "source": [
    "#Pertanyaan 5\n",
    "\n",
    "sql_df = pd.read_sql_query(\"SELECT c.customerId, c.firstName, c.lastName, c.phone, c.address FROM customers WHERE EXISTS (SELECT 1 FROM invoices i WHERE i.customerId = c.customerId) ORDER BY c.customerId;;\",cnx)"
   ]
  },
  {
   "cell_type": "code",
   "execution_count": null,
   "metadata": {},
   "outputs": [],
   "source": []
  }
 ],
 "metadata": {
  "kernelspec": {
   "display_name": "Python 3",
   "language": "python",
   "name": "python3"
  },
  "language_info": {
   "codemirror_mode": {
    "name": "ipython",
    "version": 3
   },
   "file_extension": ".py",
   "mimetype": "text/x-python",
   "name": "python",
   "nbconvert_exporter": "python",
   "pygments_lexer": "ipython3",
   "version": "3.11.4"
  },
  "orig_nbformat": 4
 },
 "nbformat": 4,
 "nbformat_minor": 2
}
